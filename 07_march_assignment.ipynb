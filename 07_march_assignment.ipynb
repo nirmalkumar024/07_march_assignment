{
 "cells": [
  {
   "cell_type": "markdown",
   "id": "be754937-af75-4fba-9049-bf959d6ec8a1",
   "metadata": {},
   "source": [
    "Q1. What are the three measures of central tendency?"
   ]
  },
  {
   "cell_type": "code",
   "execution_count": null,
   "id": "5e289a03-cee3-4c0c-aba6-1973a5833eff",
   "metadata": {},
   "outputs": [],
   "source": [
    "1.Mean\n",
    "2.median\n",
    "3.Mode"
   ]
  },
  {
   "cell_type": "markdown",
   "id": "48a2d307-d3bb-4bda-8f30-9baf8af70a37",
   "metadata": {},
   "source": [
    "Q2. What is the difference between the mean, median, and mode? How are they used to measure the\n",
    "central tendency of a dataset?"
   ]
  },
  {
   "cell_type": "markdown",
   "id": "f123b531-b55d-4635-8960-6b8878305723",
   "metadata": {},
   "source": [
    "when we add outlier in the data set mean change but median not change means not affect to much the values,\n",
    "mode is a different from both it is define which one is repeated height time.\n",
    "it is used to  measure  the central tendency of data set, it is first steps to determine which data used to \n",
    "most and which have the height value from help of (mean and median)."
   ]
  },
  {
   "cell_type": "markdown",
   "id": "1c227f5d-09fc-4f50-882c-fbdd3bffba14",
   "metadata": {},
   "source": [
    "Q3. Measure the three measures of central tendency for the given height data:\n",
    "[178,177,176,177,178.2,178,175,179,180,175,178.9,176.2,177,172.5,178,176.5]"
   ]
  },
  {
   "cell_type": "code",
   "execution_count": 1,
   "id": "885fccdb-d256-4aec-84a9-4517d53c9669",
   "metadata": {},
   "outputs": [],
   "source": [
    "a=(178+177+176+177+178.2+178+175+179+180+175+178.9+176.2+177+172.5+178+176.5)"
   ]
  },
  {
   "cell_type": "code",
   "execution_count": 9,
   "id": "a83edf84-17f9-4375-8ddc-c2b30121c0fa",
   "metadata": {},
   "outputs": [],
   "source": [
    "import numpy as np"
   ]
  },
  {
   "cell_type": "code",
   "execution_count": 10,
   "id": "c6b4f185-9512-43e7-a6bf-59c331ac1f14",
   "metadata": {},
   "outputs": [
    {
     "data": {
      "text/plain": [
       "177.01875"
      ]
     },
     "execution_count": 10,
     "metadata": {},
     "output_type": "execute_result"
    }
   ],
   "source": [
    "np.mean(a)"
   ]
  },
  {
   "cell_type": "code",
   "execution_count": 12,
   "id": "bdfdd7c2-36b5-48d9-a2fa-64cd0c2ce9c0",
   "metadata": {},
   "outputs": [
    {
     "data": {
      "text/plain": [
       "177.01875"
      ]
     },
     "execution_count": 12,
     "metadata": {},
     "output_type": "execute_result"
    }
   ],
   "source": [
    "np.median(a)"
   ]
  },
  {
   "cell_type": "code",
   "execution_count": 5,
   "id": "3215b760-9b13-4e24-8100-ea9b51c5f610",
   "metadata": {},
   "outputs": [],
   "source": [
    "c=177 and 178 #mode"
   ]
  },
  {
   "cell_type": "markdown",
   "id": "f53705cd-1794-4f2d-a122-ad2f57498074",
   "metadata": {},
   "source": [
    "Q4. Find the standard deviation for the given data:\n",
    "[178,177,176,177,178.2,178,175,179,180,175,178.9,176.2,177,172.5,178,176.5]"
   ]
  },
  {
   "cell_type": "code",
   "execution_count": 14,
   "id": "63186073-f042-4f1d-afc9-59219055cfdf",
   "metadata": {},
   "outputs": [
    {
     "data": {
      "text/plain": [
       "1.7885814036548633"
      ]
     },
     "execution_count": 14,
     "metadata": {},
     "output_type": "execute_result"
    }
   ],
   "source": [
    "std=[178,177,176,177,178.2,178,175,179,180,175,178.9,176.2,177,172.5,178,176.5]\n",
    "np.std(std)"
   ]
  },
  {
   "cell_type": "markdown",
   "id": "36af8730-0af4-4919-aba1-cea347e62776",
   "metadata": {},
   "source": [
    "Q5. How are measures of dispersion such as range, variance, and standard deviation used to describe\n",
    "the spread of a dataset? Provide an example."
   ]
  },
  {
   "cell_type": "code",
   "execution_count": 15,
   "id": "77e73fdb-8cc2-43a5-b9e3-a593f7ed93eb",
   "metadata": {},
   "outputs": [
    {
     "data": {
      "text/plain": [
       "304.0"
      ]
     },
     "execution_count": 15,
     "metadata": {},
     "output_type": "execute_result"
    }
   ],
   "source": [
    "age=[23,42,54,78,25,45,65,44]\n",
    "np.var(age) #variance"
   ]
  },
  {
   "cell_type": "code",
   "execution_count": 16,
   "id": "da8e910f-356c-4122-9675-6bd8f2ce651c",
   "metadata": {},
   "outputs": [
    {
     "data": {
      "text/plain": [
       "17.435595774162696"
      ]
     },
     "execution_count": 16,
     "metadata": {},
     "output_type": "execute_result"
    }
   ],
   "source": [
    "np.std(age) #standard deviation"
   ]
  },
  {
   "cell_type": "markdown",
   "id": "3ed2f35c-d80b-41d6-a083-b98bd5aa7ede",
   "metadata": {},
   "source": [
    "Q6. What is a Venn diagram?\n"
   ]
  },
  {
   "cell_type": "markdown",
   "id": "68ac8693-e1b2-457a-9ef1-979f1e06c92d",
   "metadata": {},
   "source": [
    "A Venn diagram is an illustration that uses circles to show the relationships among things or finite groups of things. Venn diagrams help to visually represent the similarities and differences between two concepts."
   ]
  },
  {
   "cell_type": "code",
   "execution_count": null,
   "id": "9735c422-8d26-402b-b621-07196b2e0c11",
   "metadata": {},
   "outputs": [],
   "source": [
    "Q7. For the two given sets A = (2,3,4,5,6,7) & B = (0,2,6,8,10). Find:\n",
    "(i) A B\n",
    "(ii) A ⋃ B"
   ]
  },
  {
   "cell_type": "code",
   "execution_count": 21,
   "id": "0183c677-c5af-4d6b-851b-03c3644ea8f3",
   "metadata": {},
   "outputs": [
    {
     "name": "stdout",
     "output_type": "stream",
     "text": [
      "Collecting matplotlib-venn\n",
      "  Downloading matplotlib-venn-0.11.9.tar.gz (30 kB)\n",
      "  Installing build dependencies ... \u001b[?25ldone\n",
      "\u001b[?25h  Getting requirements to build wheel ... \u001b[?25ldone\n",
      "\u001b[?25h  Installing backend dependencies ... \u001b[?25ldone\n",
      "\u001b[?25h  Preparing metadata (pyproject.toml) ... \u001b[?25ldone\n",
      "\u001b[?25hRequirement already satisfied: matplotlib in /opt/conda/lib/python3.10/site-packages (from matplotlib-venn) (3.6.2)\n",
      "Requirement already satisfied: numpy in /opt/conda/lib/python3.10/site-packages (from matplotlib-venn) (1.23.5)\n",
      "Requirement already satisfied: scipy in /opt/conda/lib/python3.10/site-packages (from matplotlib-venn) (1.9.3)\n",
      "Requirement already satisfied: pyparsing>=2.2.1 in /opt/conda/lib/python3.10/site-packages (from matplotlib->matplotlib-venn) (3.0.9)\n",
      "Requirement already satisfied: python-dateutil>=2.7 in /opt/conda/lib/python3.10/site-packages (from matplotlib->matplotlib-venn) (2.8.2)\n",
      "Requirement already satisfied: fonttools>=4.22.0 in /opt/conda/lib/python3.10/site-packages (from matplotlib->matplotlib-venn) (4.38.0)\n",
      "Requirement already satisfied: packaging>=20.0 in /opt/conda/lib/python3.10/site-packages (from matplotlib->matplotlib-venn) (22.0)\n",
      "Requirement already satisfied: kiwisolver>=1.0.1 in /opt/conda/lib/python3.10/site-packages (from matplotlib->matplotlib-venn) (1.4.4)\n",
      "Requirement already satisfied: cycler>=0.10 in /opt/conda/lib/python3.10/site-packages (from matplotlib->matplotlib-venn) (0.11.0)\n",
      "Requirement already satisfied: pillow>=6.2.0 in /opt/conda/lib/python3.10/site-packages (from matplotlib->matplotlib-venn) (9.2.0)\n",
      "Requirement already satisfied: contourpy>=1.0.1 in /opt/conda/lib/python3.10/site-packages (from matplotlib->matplotlib-venn) (1.0.6)\n",
      "Requirement already satisfied: six>=1.5 in /opt/conda/lib/python3.10/site-packages (from python-dateutil>=2.7->matplotlib->matplotlib-venn) (1.16.0)\n",
      "Building wheels for collected packages: matplotlib-venn\n",
      "  Building wheel for matplotlib-venn (pyproject.toml) ... \u001b[?25ldone\n",
      "\u001b[?25h  Created wheel for matplotlib-venn: filename=matplotlib_venn-0.11.9-py3-none-any.whl size=32999 sha256=5a99e1b435decaeec4a755d6cc713bf4057e6ed20e408e485ab0a94159d25986\n",
      "  Stored in directory: /home/jovyan/.cache/pip/wheels/ab/a1/93/9cbd4e11e6964009387cd595450dfcbb6998e15dfbaa5805dd\n",
      "Successfully built matplotlib-venn\n",
      "Installing collected packages: matplotlib-venn\n",
      "Successfully installed matplotlib-venn-0.11.9\n",
      "Note: you may need to restart the kernel to use updated packages.\n"
     ]
    }
   ],
   "source": [
    "pip install matplotlib-venn"
   ]
  },
  {
   "cell_type": "code",
   "execution_count": 1,
   "id": "af58a649-e0de-44dd-bd07-aa4cb17b2b95",
   "metadata": {},
   "outputs": [
    {
     "data": {
      "image/png": "[encoded data removed]",
      "text/plain": [
       "<Figure size 640x480 with 1 Axes>"
      ]
     },
     "metadata": {},
     "output_type": "display_data"
    }
   ],
   "source": [
    "\n",
    "# import modules\n",
    "from matplotlib_venn import venn2_unweighted \n",
    "from matplotlib import pyplot as plt\n",
    "  \n",
    "# depict venn diagram\n",
    "venn2_unweighted(subsets = (2,3,4,5,6,7),\n",
    "                 set_labels = ('Group A', \n",
    "                               'Group B'),\n",
    "                 set_colors=(\"orange\",\n",
    "                             \"blue\"),alpha=0.7)\n",
    "plt.show()"
   ]
  },
  {
   "cell_type": "code",
   "execution_count": 2,
   "id": "e1c4f156-37be-4bfa-9d85-dc29105ff82c",
   "metadata": {},
   "outputs": [
    {
     "data": {
      "image/png": "[encoded data removed]",
      "text/plain": [
       "<Figure size 640x480 with 1 Axes>"
      ]
     },
     "metadata": {},
     "output_type": "display_data"
    }
   ],
   "source": [
    "# import modules\n",
    "from matplotlib_venn import venn2_unweighted \n",
    "from matplotlib import pyplot as plt\n",
    "  \n",
    "# depict venn diagram\n",
    "venn2_unweighted(subsets = (0,2,6,8,10),\n",
    "                 set_labels = ('Group A', \n",
    "                               'Group B'),\n",
    "                 set_colors=(\"orange\",\n",
    "                             \"blue\"),alpha=0.7)\n",
    "plt.show()"
   ]
  },
  {
   "cell_type": "markdown",
   "id": "bf85de10-60e8-4bc5-8eef-5681f5576810",
   "metadata": {},
   "source": [
    "Q8. What do you understand about skewness in data?"
   ]
  },
  {
   "cell_type": "markdown",
   "id": "4f12f140-8901-41a6-8934-71db16efc289",
   "metadata": {},
   "source": [
    "Skewness is a measurement of the distortion of symmetrical distribution or asymmetry in a data set. Skewness is demonstrated on a bell curve when data points are not distributed symmetrically to the left and right sides of the median on a bell curve."
   ]
  },
  {
   "cell_type": "markdown",
   "id": "b1571f7b-b09c-4b1d-8b5c-4375fa8249c1",
   "metadata": {},
   "source": [
    "Q9. If a data is right skewed then what will be the position of median with respect to mean?"
   ]
  },
  {
   "cell_type": "markdown",
   "id": "b5c32341-0f97-4b60-800d-54013736acd1",
   "metadata": {},
   "source": [
    "it is called positive skewed data curve."
   ]
  },
  {
   "cell_type": "markdown",
   "id": "6a2fa674-b79f-42f1-a453-b6fc855b1a2e",
   "metadata": {},
   "source": [
    "Q10. Explain the difference between covariance and correlation. How are these measures used in\n",
    "statistical analysis?"
   ]
  },
  {
   "cell_type": "markdown",
   "id": "8296d73b-baa4-44b5-8ced-c0aa4634a1d2",
   "metadata": {},
   "source": [
    "covariance\n",
    "\n",
    "1.Covariance is a statistical term that refers to a systematic relationship between two random variables in which a change in the other reflects a change in one variable.\n",
    "\n",
    "2.The covariance value can range from -∞ to +∞, with a negative value indicating a negative relationship and a positive value indicating a positive relationship.\n",
    "\n",
    "3.The greater this number, the more reliant the relationship. Positive covariance denotes a direct relationship and is represented by a positive number.\n",
    "\n",
    "correlation\n",
    "\n",
    "In statistics, correlation is a measure that determines the degree to which two or more random variables move in sequence. When an equivalent movement of another variable reciprocates the movement of one variable in some way or another during the study of two variables, the variables are said to be correlated. The formula for correlation is:\n",
    "\n",
    "it is use to compare the data factor according to given data which one is higher and lower value.\n",
    "\n"
   ]
  },
  {
   "cell_type": "markdown",
   "id": "a6facede-51ed-47e3-8db8-01a54d1c9bfc",
   "metadata": {},
   "source": [
    "Q11. What is the formula for calculating the sample mean? Provide an example calculation for a\n",
    "dataset."
   ]
  },
  {
   "cell_type": "code",
   "execution_count": 4,
   "id": "378e59ba-0ad4-4df0-8394-828a752224de",
   "metadata": {},
   "outputs": [
    {
     "data": {
      "text/plain": [
       "5.0"
      ]
     },
     "execution_count": 4,
     "metadata": {},
     "output_type": "execute_result"
    }
   ],
   "source": [
    "#formula=x̄= (xi)/n \n",
    "import numpy as np\n",
    "x=[1,5,4,7,8]\n",
    "np.mean(x)\n"
   ]
  },
  {
   "cell_type": "markdown",
   "id": "1ed3dac0-260d-4e14-bc2b-ad6730e42ad8",
   "metadata": {},
   "source": [
    "Q12. For a normal distribution data what is the relationship between its measure of central tendency?"
   ]
  },
  {
   "cell_type": "markdown",
   "id": "db0a8bd0-ef2b-4c15-a925-a57c2d18d7a7",
   "metadata": {},
   "source": [
    "it is symetrical data and the bell curve form with the std.deviation, all measures of central tendency (most commonly, the mean, median, and mode"
   ]
  },
  {
   "cell_type": "markdown",
   "id": "1e15e140-3728-4a4b-823f-fa5a68e66dc0",
   "metadata": {},
   "source": [
    "Q13. How is covariance different from correlation?"
   ]
  },
  {
   "cell_type": "markdown",
   "id": "bed65f9f-8a47-4f86-8eba-eec302c46011",
   "metadata": {},
   "source": [
    "covariance(infinite to -infinite) is the function in which the x is increasing and y is decreasing or vise versa,but in correlation(1 to -1)\n",
    "but(x,y) increasing or decreasing."
   ]
  },
  {
   "cell_type": "markdown",
   "id": "41dfa891-c1de-43a1-b546-fff56e03feab",
   "metadata": {},
   "source": [
    "Q14. How do outliers affect measures of central tendency and dispersion? Provide an example."
   ]
  },
  {
   "cell_type": "markdown",
   "id": "27a041c7-8d68-407c-9c13-280438450c4c",
   "metadata": {},
   "source": [
    "when we add outlier in the data mean change but median not affect the central tendency,\n"
   ]
  },
  {
   "cell_type": "code",
   "execution_count": 10,
   "id": "48022743-3b34-47fe-b735-7c8165dbee45",
   "metadata": {},
   "outputs": [
    {
     "data": {
      "text/plain": [
       "(7.0, 7.5)"
      ]
     },
     "execution_count": 10,
     "metadata": {},
     "output_type": "execute_result"
    }
   ],
   "source": [
    "#examples\n",
    "a=[5,8,7,8,9,5]\n",
    "np.mean(a),np.median(a)"
   ]
  },
  {
   "cell_type": "code",
   "execution_count": 11,
   "id": "9fed4222-2e93-494e-bb63-b2f8dcea314c",
   "metadata": {},
   "outputs": [
    {
     "data": {
      "text/plain": [
       "(8.0, 7.428571428571429)"
      ]
     },
     "execution_count": 11,
     "metadata": {},
     "output_type": "execute_result"
    }
   ],
   "source": [
    "#add the outlier to the data \n",
    "a=[5,8,7,8,9,5,10]\n",
    "np.median(a),np.mean(a)"
   ]
  },
  {
   "cell_type": "code",
   "execution_count": null,
   "id": "1c8c1228-5d64-406b-9c2c-570edede7ad2",
   "metadata": {},
   "outputs": [],
   "source": []
  }
 ],
 "metadata": {
  "kernelspec": {
   "display_name": "Python 3 (ipykernel)",
   "language": "python",
   "name": "python3"
  },
  "language_info": {
   "codemirror_mode": {
    "name": "ipython",
    "version": 3
   },
   "file_extension": ".py",
   "mimetype": "text/x-python",
   "name": "python",
   "nbconvert_exporter": "python",
   "pygments_lexer": "ipython3",
   "version": "3.10.8"
  }
 },
 "nbformat": 4,
 "nbformat_minor": 5
}
